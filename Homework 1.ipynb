{
 "cells": [
  {
   "cell_type": "markdown",
   "metadata": {},
   "source": [
    "# Homework \n",
    "\n",
    "## Question 1:\n",
    "\n",
    "Assume $ \\ket{ \\chi_1}$, $\\ket{\\chi_2}$,$\\ket{\\chi_3}$ form a basis of a three level quantum system. Consider the following two unnormalized states of the quantum system: $\\ket{\\psi_2>} = -\\ket{\\chi_1} + 3i\\ket{\\chi_2} + 2\\ket{\\chi_3}$ and $\\ket{\\psi_2} = 4i\\ket{\\chi_1} -b\\ket{\\chi_3}$"
   ]
  },
  {
   "cell_type": "code",
   "execution_count": 47,
   "metadata": {},
   "outputs": [],
   "source": [
    "from sympy.physics.quantum import Bra\n",
    "from sympy.physics.quantum import Ket,qapply\n",
    "from sympy.physics.quantum.dagger import Dagger\n",
    "from sympy.physics.quantum.operator import Operator\n",
    "from sympy.physics.quantum import InnerProduct, OuterProduct \n",
    "from sympy import re, im, I, E, symbols,Matrix,Symbol\n",
    "\n",
    "basis = Matrix([Ket(\"Chi_1\"),Ket(\"Chi_2\"),Ket(\"Chi_3\")])\n",
    "state1 = Matrix([-1, 3*I, 2]).T\n",
    "state2 = Matrix([4*I,0,Symbol(\"b\")]).T\n",
    "Psi1 = state1*basis\n",
    "Psi2 = state2*basis\n",
    "state3 = state1-state2"
   ]
  },
  {
   "cell_type": "code",
   "execution_count": 74,
   "metadata": {},
   "outputs": [
    {
     "data": {
      "text/latex": [
       "$\\displaystyle \\left[\\begin{matrix}-1 & 3 i & 2\\end{matrix}\\right]$"
      ],
      "text/plain": [
       "Matrix([[-1, 3*I, 2]])"
      ]
     },
     "metadata": {},
     "output_type": "display_data"
    },
    {
     "data": {
      "text/latex": [
       "$\\displaystyle \\left[\\begin{matrix}4 i & 0 & b\\end{matrix}\\right]$"
      ],
      "text/plain": [
       "Matrix([[4*I, 0, b]])"
      ]
     },
     "metadata": {},
     "output_type": "display_data"
    },
    {
     "data": {
      "text/latex": [
       "$\\displaystyle 2 b - 4 i$"
      ],
      "text/plain": [
       "2*b - 4*I"
      ]
     },
     "metadata": {},
     "output_type": "display_data"
    },
    {
     "data": {
      "text/latex": [
       "$\\displaystyle 2 \\overline{b} + 4 i$"
      ],
      "text/plain": [
       "2*conjugate(b) + 4*I"
      ]
     },
     "metadata": {},
     "output_type": "display_data"
    }
   ],
   "source": [
    "display(state1)\n",
    "display(state2)\n",
    "display(Dagger(state1).dot(state2))\n",
    "display(Dagger(state2).dot(state1))\n"
   ]
  },
  {
   "cell_type": "code",
   "execution_count": 75,
   "metadata": {},
   "outputs": [
    {
     "data": {
      "text/latex": [
       "$\\displaystyle \\sqrt{14}$"
      ],
      "text/plain": [
       "sqrt(14)"
      ]
     },
     "execution_count": 75,
     "metadata": {},
     "output_type": "execute_result"
    }
   ],
   "source": [
    "state1.norm()"
   ]
  },
  {
   "cell_type": "code",
   "execution_count": 76,
   "metadata": {},
   "outputs": [
    {
     "data": {
      "text/latex": [
       "$\\displaystyle -4$"
      ],
      "text/plain": [
       "-4"
      ]
     },
     "execution_count": 76,
     "metadata": {},
     "output_type": "execute_result"
    }
   ],
   "source": [
    "state1.dot(state1)"
   ]
  },
  {
   "cell_type": "code",
   "execution_count": 78,
   "metadata": {},
   "outputs": [
    {
     "data": {
      "text/latex": [
       "$\\displaystyle 14$"
      ],
      "text/plain": [
       "14"
      ]
     },
     "execution_count": 78,
     "metadata": {},
     "output_type": "execute_result"
    }
   ],
   "source": [
    "Dagger(state1).dot(state1)"
   ]
  },
  {
   "cell_type": "markdown",
   "metadata": {},
   "source": [
    "# Homework 2\n",
    "\n",
    "The probability of a state $\\psi$ occuring given originally $\\phi$ is given by the following:\n",
    "   \n",
    "\\begin{equation}\n",
    "P =| <\\psi|\\phi> |^{2}\n",
    "\\end{equation}"
   ]
  },
  {
   "cell_type": "code",
   "execution_count": null,
   "metadata": {},
   "outputs": [],
   "source": []
  }
 ],
 "metadata": {
  "kernelspec": {
   "display_name": "Python 3",
   "language": "python",
   "name": "python3"
  },
  "language_info": {
   "codemirror_mode": {
    "name": "ipython",
    "version": 3
   },
   "file_extension": ".py",
   "mimetype": "text/x-python",
   "name": "python",
   "nbconvert_exporter": "python",
   "pygments_lexer": "ipython3",
   "version": "3.8.3"
  }
 },
 "nbformat": 4,
 "nbformat_minor": 4
}
