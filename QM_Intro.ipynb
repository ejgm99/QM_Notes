{
 "cells": [
  {
   "cell_type": "markdown",
   "metadata": {},
   "source": [
    "# Quantum Mechanics Foundations\n",
    "In quantum mechanics, we are trying to capture the behavior of quantum systems for simulation. This can be done in three neat steps:\n",
    "\n",
    "1. Find the mathematical way to specify the state of the quantum system.\n",
    "\n",
    "2. Find the equation of motion that governs the dynamics of the quantum system.\n",
    "\n",
    "> We'll do this using the Shrodinger's equation:\n",
    "\n",
    " \\begin{equation}\n",
    "i \\hbar \\frac{\\partial \\psi(x,t)}{\\partial t} = \\frac{\\hbar^2}{2m}\\psi(x,t)  +    V(x)\\psi(x,t)\n",
    "\\end{equation}\n",
    "\n",
    "> > Where the left hand side of the above equation is the Hamiltonian\n",
    "> > - $\\frac{\\hbar^2}{2m}\\psi(x,t)$ is the kinetic energy of the Hamiltonian\n",
    "> > - $V(x)\\psi(x,t)$ is the potential energy of the Hamiltonian\n",
    "\n",
    "\n",
    "3. Now, by finding the initial condition, $\\psi(x,t=0)$, quantum mechanics just turns into a partial differential equation problem.\n"
   ]
  },
  {
   "cell_type": "code",
   "execution_count": 47,
   "metadata": {},
   "outputs": [],
   "source": [
    "from sympy.physics.quantum import Bra\n",
    "from sympy.physics.quantum import Ket,qapply\n",
    "from sympy.physics.quantum.dagger import Dagger\n",
    "from sympy.physics.quantum.operator import Operator\n",
    "from sympy.physics.quantum import InnerProduct, OuterProduct \n",
    "from sympy import re, im, I, E, symbols,Matrix"
   ]
  },
  {
   "cell_type": "markdown",
   "metadata": {},
   "source": [
    "## Defining Dirac Notation & Hilbert Spaces\n",
    "\n",
    "The Hilbert Space is meant to denote a vector space allowing for complex number coordinates. One of the fundamental postulates of quantum mechanics are that the state of any quantum system can be represented via a vector in Hilbert space. Since the idea of a state in quantum mechanics can be abstracted away to any column vector, we need to be able to talk about quantum mechanics without having to specify too much information about the actual space we're working on. Thus, enter Dirac Notation. \n"
   ]
  },
  {
   "cell_type": "code",
   "execution_count": 18,
   "metadata": {},
   "outputs": [
    {
     "name": "stdout",
     "output_type": "stream",
     "text": [
      "{'new key': 1}\n",
      "key not found\n"
     ]
    }
   ],
   "source": []
  },
  {
   "cell_type": "code",
   "execution_count": 42,
   "metadata": {},
   "outputs": [
    {
     "data": {
      "text/latex": [
       "$\\displaystyle {\\left\\langle i\\right|}$"
      ],
      "text/plain": [
       "<I|"
      ]
     },
     "execution_count": 42,
     "metadata": {},
     "output_type": "execute_result"
    }
   ],
   "source": [
    "k = Ket([1,-3*I,3])\n",
    "b = Bra([1,3])\n",
    "a =[1,I]\n",
    "Dagger(Ket(I))\n"
   ]
  },
  {
   "cell_type": "code",
   "execution_count": 65,
   "metadata": {},
   "outputs": [],
   "source": [
    "basis = [2,4,4]\n",
    "b=Bra(basis)\n",
    "k=Ket(basis*2)"
   ]
  },
  {
   "cell_type": "code",
   "execution_count": 66,
   "metadata": {},
   "outputs": [
    {
     "name": "stdout",
     "output_type": "stream",
     "text": [
      "<(2, 4, 4)|(2, 4, 4, 2, 4, 4)>\n",
      "<(2, 4, 4)|**2\n"
     ]
    },
    {
     "data": {
      "text/latex": [
       "$\\displaystyle \\left\\langle \\left( 2, \\  4, \\  4, \\  2, \\  4, \\  4\\right) \\right. {\\left|\\left( 2, \\  4, \\  4\\right)\\right\\rangle }$"
      ],
      "text/plain": [
       "<(2, 4, 4, 2, 4, 4)|(2, 4, 4)>"
      ]
     },
     "execution_count": 66,
     "metadata": {},
     "output_type": "execute_result"
    }
   ],
   "source": [
    "i=InnerProduct(b,k)\n",
    "print(i)\n",
    "print(b**2)\n",
    "Dagger(i)"
   ]
  },
  {
   "cell_type": "markdown",
   "metadata": {},
   "source": [
    "# The Hermetian Conjugate\n",
    "\n",
    "The dual of the bra can be found by calculating the Hermetian Conjugation. \n",
    "\n",
    "It is defined by the following:\n",
    "\n",
    "\\begin{equation}\n",
    "| \\psi >^{\\dagger} =  \\sum_{i} a_i | \\chi_i >  => <\\psi| =  \\sum_{i} a_{i}^{*} | \\chi_i >\n",
    "\\end{equation}\n",
    "\n",
    "\n",
    "Taking the Hermetian Conjugate:\n",
    "\n",
    "Take transpose of a Matrix, and then take complex conjugate of every entry.\n",
    "\n",
    "The Hermetian Conjugates of a Bra is the Ket, and the Hermetian Conjucate of the Ket is the Bra.\n",
    "\n",
    "\n",
    "Properties:\n",
    "\n",
    "The hermetian conjugate of A, and doing it again, goes back to the original. \n",
    "\n",
    "Linearity: $(A+B) ^{\\dagger}  = A^{\\dagger}+B ^{\\dagger}$\n",
    "\n",
    "$AB ^{\\dagger} = B ^{\\dagger} A ^{\\dagger} $\n",
    "\n",
    "$(\\alpha A)^{\\dagger}=\\alpha^* A^{\\dagger}$"
   ]
  },
  {
   "cell_type": "code",
   "execution_count": 50,
   "metadata": {},
   "outputs": [
    {
     "data": {
      "text/latex": [
       "$\\displaystyle \\left[\\begin{matrix}- i & - i\\\\- i & - i\\\\- i & - i\\end{matrix}\\right]$"
      ],
      "text/plain": [
       "Matrix([\n",
       "[-I, -I],\n",
       "[-I, -I],\n",
       "[-I, -I]])"
      ]
     },
     "execution_count": 50,
     "metadata": {},
     "output_type": "execute_result"
    }
   ],
   "source": [
    "m = Matrix([[I,I,I],[I,I,I]])\n",
    "Dagger(m)"
   ]
  },
  {
   "cell_type": "code",
   "execution_count": 57,
   "metadata": {},
   "outputs": [],
   "source": [
    "c1 = Ket(\"c1\")\n",
    "c2 = Ket(\"c2\")\n",
    "c3 = Ket(\"c3\")\n",
    "basis = Matrix([c1,c2,c3])"
   ]
  },
  {
   "cell_type": "code",
   "execution_count": 66,
   "metadata": {},
   "outputs": [],
   "source": [
    "weights=  Dagger(Matrix([1,2,3]))"
   ]
  },
  {
   "cell_type": "code",
   "execution_count": 68,
   "metadata": {},
   "outputs": [],
   "source": [
    "basis = Dagger(weights*basis)"
   ]
  },
  {
   "cell_type": "code",
   "execution_count": 70,
   "metadata": {},
   "outputs": [
    {
     "data": {
      "text/latex": [
       "$\\displaystyle \\left[\\begin{matrix}{\\left|c_{1}\\right\\rangle } + 2 {\\left|c_{2}\\right\\rangle } + 3 {\\left|c_{3}\\right\\rangle }\\end{matrix}\\right]$"
      ],
      "text/plain": [
       "Matrix([[|c1> + 2*|c2> + 3*|c3>]])"
      ]
     },
     "execution_count": 70,
     "metadata": {},
     "output_type": "execute_result"
    }
   ],
   "source": [
    "Dagger(basis)"
   ]
  },
  {
   "cell_type": "code",
   "execution_count": null,
   "metadata": {},
   "outputs": [],
   "source": []
  },
  {
   "cell_type": "code",
   "execution_count": null,
   "metadata": {},
   "outputs": [],
   "source": []
  },
  {
   "cell_type": "markdown",
   "metadata": {},
   "source": [
    "\n",
    "\n",
    "Defining the Inner Product: \n",
    "\n",
    "> Generalization of the dot product for two vectors. Invariant for any basis.\n",
    "    \n",
    "> The Inner product wors on two vectors in the Hilbert Space and is defind like so:\n",
    "    \n",
    "\\begin{equation}\n",
    "<\\psi| \\phi > =  \\sum_{i} a_i^{*}b_i = \\psi^{\\dagger}\\phi \n",
    "\\end{equation}\n",
    "\n",
    "\\begin{equation}\n",
    "<\\psi| \\phi >=<\\phi| \\psi >^{*} \n",
    "\\end{equation}\n",
    "\n",
    "$\\psi$ is a row vector, $\\phi$ is a column vector. \n",
    "Inner product is always a product between a bra and a ket, that is the product between a row vector and a  column vector. \n",
    "\n",
    "\n",
    "\n",
    "\n",
    "For two vectors in Euclidian space, $u\\dot v=v\\dot u$\n",
    "\n",
    "Physical Meanings for Inner Product:\n",
    "\n",
    "> If you take the modulus squared, $|<\\psi|\\phi>|^2$, this represents the probability of finding the quantum system in state $|\\psi >$ if it is originally in state $|\\phi>$\n",
    "    \n",
    "Probability of the qub\n",
    "\n",
    "Orthogonal and Normalized States:\n",
    "\n",
    "> If two vectors are orthoganal in the Hilbert Space, then the inner product between them is 0."
   ]
  },
  {
   "cell_type": "code",
   "execution_count": 2,
   "metadata": {},
   "outputs": [
    {
     "ename": "NameError",
     "evalue": "name 'Ket' is not defined",
     "output_type": "error",
     "traceback": [
      "\u001b[1;31m---------------------------------------------------------------------------\u001b[0m",
      "\u001b[1;31mNameError\u001b[0m                                 Traceback (most recent call last)",
      "\u001b[1;32m<ipython-input-2-16fabd1573fa>\u001b[0m in \u001b[0;36m<module>\u001b[1;34m\u001b[0m\n\u001b[1;32m----> 1\u001b[1;33m \u001b[0mk\u001b[0m\u001b[1;33m=\u001b[0m\u001b[0mKet\u001b[0m\u001b[1;33m(\u001b[0m\u001b[1;33m[\u001b[0m\u001b[1;36m1\u001b[0m \u001b[1;33m,\u001b[0m \u001b[0mI\u001b[0m\u001b[1;33m]\u001b[0m\u001b[1;33m)\u001b[0m\u001b[1;33m\u001b[0m\u001b[1;33m\u001b[0m\u001b[0m\n\u001b[0m",
      "\u001b[1;31mNameError\u001b[0m: name 'Ket' is not defined"
     ]
    }
   ],
   "source": [
    "k=Ket([1 , I])"
   ]
  },
  {
   "cell_type": "code",
   "execution_count": 68,
   "metadata": {},
   "outputs": [
    {
     "data": {
      "text/latex": [
       "$\\displaystyle {\\left|\\psi\\right\\rangle }$"
      ],
      "text/plain": [
       "|psi>"
      ]
     },
     "execution_count": 68,
     "metadata": {},
     "output_type": "execute_result"
    }
   ],
   "source": [
    "k"
   ]
  },
  {
   "cell_type": "code",
   "execution_count": 69,
   "metadata": {},
   "outputs": [
    {
     "data": {
      "text/latex": [
       "$\\displaystyle \\left\\langle b \\right. {\\left|a\\right\\rangle }$"
      ],
      "text/plain": [
       "<b|a>"
      ]
     },
     "execution_count": 69,
     "metadata": {},
     "output_type": "execute_result"
    }
   ],
   "source": [
    "Dagger(InnerProduct(Bra('a'),Ket('b')))"
   ]
  },
  {
   "cell_type": "code",
   "execution_count": null,
   "metadata": {},
   "outputs": [],
   "source": []
  }
 ],
 "metadata": {
  "kernelspec": {
   "display_name": "Python 3",
   "language": "python",
   "name": "python3"
  },
  "language_info": {
   "codemirror_mode": {
    "name": "ipython",
    "version": 3
   },
   "file_extension": ".py",
   "mimetype": "text/x-python",
   "name": "python",
   "nbconvert_exporter": "python",
   "pygments_lexer": "ipython3",
   "version": "3.8.3"
  }
 },
 "nbformat": 4,
 "nbformat_minor": 2
}
