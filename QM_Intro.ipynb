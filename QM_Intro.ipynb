{
 "cells": [
  {
   "cell_type": "markdown",
   "metadata": {},
   "source": [
    "# Quantum Mechanics Foundations\n",
    "In quantum mechanics, we are trying to capture the behavior of quantum systems for simulation. This can be done in three neat steps:\n",
    "\n",
    "1. Find the mathematical way to specify the state of the quantum system.\n",
    "\n",
    "2. Find the equation of motion that governs the dynamics of the quantum system.\n",
    "\n",
    "> We'll do this using the Shrodinger's equation:\n",
    "\n",
    " \\begin{equation}\n",
    "i \\hbar \\frac{\\partial \\psi(x,t)}{\\partial t} = \\frac{\\hbar^2}{2m}\\psi(x,t)  +    V(x)\\psi(x,t)\n",
    "\\end{equation}\n",
    "\n",
    "> > Where the left hand side of the above equation is the Hamiltonian\n",
    "> > - $\\frac{\\hbar^2}{2m}\\psi(x,t)$ is the kinetic energy of the Hamiltonian\n",
    "> > - $V(x)\\psi(x,t)$ is the potential energy of the Hamiltonian\n",
    "\n",
    "\n",
    "3. Now, by finding the initial condition, $\\psi(x,t=0)$, quantum mechanics just turns into a partial differential equation problem.\n"
   ]
  },
  {
   "cell_type": "code",
   "execution_count": 63,
   "metadata": {},
   "outputs": [],
   "source": [
    "from sympy.physics.quantum import Bra\n",
    "from sympy.physics.quantum import Ket\n",
    "from sympy.physics.quantum.dagger import Dagger\n",
    "from sympy.physics.quantum.operator import Operator\n",
    "from sympy.physics.quantum import InnerProduct, OuterProduct"
   ]
  },
  {
   "cell_type": "markdown",
   "metadata": {},
   "source": [
    "## Defining Dirac Notation & Hilbert Spaces\n",
    "\n",
    "The Hilbert Space is meant to denote a vector space allowing for complex number coordinates. One of the fundamental postulates of quantum mechanics are that the state of any quantum system can be represented via a vector in Hilbert space. Since the idea of a state in quantum mechanics can be abstracted away to any column vector, we need to be able to talk about quantum mechanics without having to specify too much information about the actual space we're working on. Thus, enter Dirac Notation. \n"
   ]
  },
  {
   "cell_type": "code",
   "execution_count": 64,
   "metadata": {},
   "outputs": [
    {
     "data": {
      "text/latex": [
       "$\\displaystyle {\\left|2\\right\\rangle } + {\\left|{\\left|0\\right\\rangle } + {\\left|1\\right\\rangle }\\right\\rangle }$"
      ],
      "text/plain": [
       "|2> + ||0> + |1>>"
      ]
     },
     "execution_count": 64,
     "metadata": {},
     "output_type": "execute_result"
    }
   ],
   "source": [
    "Ket(Ket(0)+Ket(1))+Ket(2)"
   ]
  },
  {
   "cell_type": "code",
   "execution_count": 65,
   "metadata": {},
   "outputs": [],
   "source": [
    "basis = [2,4,4]\n",
    "b=Bra(basis)\n",
    "k=Ket(basis*2)"
   ]
  },
  {
   "cell_type": "code",
   "execution_count": 66,
   "metadata": {},
   "outputs": [
    {
     "name": "stdout",
     "output_type": "stream",
     "text": [
      "<(2, 4, 4)|(2, 4, 4, 2, 4, 4)>\n",
      "<(2, 4, 4)|**2\n"
     ]
    },
    {
     "data": {
      "text/latex": [
       "$\\displaystyle \\left\\langle \\left( 2, \\  4, \\  4, \\  2, \\  4, \\  4\\right) \\right. {\\left|\\left( 2, \\  4, \\  4\\right)\\right\\rangle }$"
      ],
      "text/plain": [
       "<(2, 4, 4, 2, 4, 4)|(2, 4, 4)>"
      ]
     },
     "execution_count": 66,
     "metadata": {},
     "output_type": "execute_result"
    }
   ],
   "source": [
    "i=InnerProduct(b,k)\n",
    "print(i)\n",
    "print(b**2)\n",
    "Dagger(i)"
   ]
  },
  {
   "cell_type": "code",
   "execution_count": 67,
   "metadata": {},
   "outputs": [],
   "source": [
    "k=Ket('psi')"
   ]
  },
  {
   "cell_type": "code",
   "execution_count": 68,
   "metadata": {},
   "outputs": [
    {
     "data": {
      "text/latex": [
       "$\\displaystyle {\\left|\\psi\\right\\rangle }$"
      ],
      "text/plain": [
       "|psi>"
      ]
     },
     "execution_count": 68,
     "metadata": {},
     "output_type": "execute_result"
    }
   ],
   "source": [
    "k"
   ]
  },
  {
   "cell_type": "code",
   "execution_count": 69,
   "metadata": {},
   "outputs": [
    {
     "data": {
      "text/latex": [
       "$\\displaystyle \\left\\langle b \\right. {\\left|a\\right\\rangle }$"
      ],
      "text/plain": [
       "<b|a>"
      ]
     },
     "execution_count": 69,
     "metadata": {},
     "output_type": "execute_result"
    }
   ],
   "source": [
    "Dagger(InnerProduct(Bra('a'),Ket('b')))"
   ]
  },
  {
   "cell_type": "code",
   "execution_count": null,
   "metadata": {},
   "outputs": [],
   "source": []
  }
 ],
 "metadata": {
  "kernelspec": {
   "display_name": "Python 3",
   "language": "python",
   "name": "python3"
  },
  "language_info": {
   "codemirror_mode": {
    "name": "ipython",
    "version": 3
   },
   "file_extension": ".py",
   "mimetype": "text/x-python",
   "name": "python",
   "nbconvert_exporter": "python",
   "pygments_lexer": "ipython3",
   "version": "3.8.1"
  }
 },
 "nbformat": 4,
 "nbformat_minor": 2
}
